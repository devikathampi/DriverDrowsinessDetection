{
 "cells": [
  {
   "cell_type": "code",
   "execution_count": 1,
   "metadata": {
    "id": "YM9hQyF0UYdu"
   },
   "outputs": [],
   "source": [
    "import dlib\n",
    "import cv2\n",
    "from imutils import face_utils\n",
    "from scipy.spatial import distance \n",
    "import math\n",
    "import pandas as pd\n",
    "import numpy as np\n",
    "\n",
    "from sklearn.base import BaseEstimator, TransformerMixin\n",
    "import pandas as pd\n",
    "from sklearn.model_selection import train_test_split\n",
    "from sklearn.metrics import roc_curve, roc_auc_score, f1_score\n",
    "from sklearn.naive_bayes import GaussianNB\n",
    "from sklearn.linear_model import LogisticRegression\n",
    "from sklearn.neural_network import MLPClassifier\n",
    "from sklearn.naive_bayes import BernoulliNB\n",
    "from sklearn.tree import DecisionTreeClassifier\n",
    "import numpy as np\n",
    "import matplotlib.pyplot as plt\n",
    "import seaborn as sns\n",
    "from sklearn.pipeline import Pipeline, FeatureUnion\n",
    "from sklearn.metrics import accuracy_score\n",
    "from sklearn.metrics import confusion_matrix\n",
    "from sklearn import metrics\n",
    "import warnings\n",
    "from sklearn import preprocessing\n",
    "\n",
    "p = \"shape_predictor_68_face_landmarks.dat\"\n",
    "detector = dlib.get_frontal_face_detector()\n",
    "predictor = dlib.shape_predictor(p)"
   ]
  },
  {
   "cell_type": "code",
   "execution_count": 2,
   "metadata": {},
   "outputs": [],
   "source": [
    "from drowsiness_functions import *"
   ]
  },
  {
   "cell_type": "code",
   "execution_count": 3,
   "metadata": {
    "id": "mD_CwIFAUiIZ"
   },
   "outputs": [],
   "source": [
    "#Feature Functions\n",
    "\n",
    "def eye_aspect_ratio(eye):\n",
    "\tA = distance.euclidean(eye[1], eye[5])\n",
    "\tB = distance.euclidean(eye[2], eye[4])\n",
    "\tC = distance.euclidean(eye[0], eye[3])\n",
    "\tear = (A + B) / (2.0 * C)\n",
    "\treturn ear\n",
    "\n",
    "def mouth_aspect_ratio(mouth):\n",
    "    A = distance.euclidean(mouth[14], mouth[18])\n",
    "    C = distance.euclidean(mouth[12], mouth[16])\n",
    "    mar = (A ) / (C)\n",
    "    return mar\n",
    "\n",
    "def circularity(eye):\n",
    "    A = distance.euclidean(eye[1], eye[4])\n",
    "    radius  = A/2.0\n",
    "    Area = math.pi * (radius ** 2)\n",
    "    p = 0\n",
    "    p += distance.euclidean(eye[0], eye[1])\n",
    "    p += distance.euclidean(eye[1], eye[2])\n",
    "    p += distance.euclidean(eye[2], eye[3])\n",
    "    p += distance.euclidean(eye[3], eye[4])\n",
    "    p += distance.euclidean(eye[4], eye[5])\n",
    "    p += distance.euclidean(eye[5], eye[0])\n",
    "    return 4 * math.pi * Area /(p**2)\n",
    "\n",
    "def mouth_over_eye(eye):\n",
    "    ear = eye_aspect_ratio(eye)\n",
    "    mar = mouth_aspect_ratio(eye)\n",
    "    mouth_eye = mar/ear\n",
    "    return mouth_eye\n",
    "\n",
    "\n",
    "def average(y_pred):\n",
    "    for i in range(len(y_pred)):\n",
    "        if i % 240 == 0 or (i+1) % 240 == 0:\n",
    "            pass\n",
    "        else: \n",
    "            average = float(y_pred[i-1] +  y_pred[i] + y_pred[i+1])/3\n",
    "            if average >= 0.5:\n",
    "                y_pred[i] = 1\n",
    "            else:\n",
    "                y_pred[i] = 0\n",
    "    return y_pred\n"
   ]
  },
  {
   "cell_type": "code",
   "execution_count": 4,
   "metadata": {
    "colab": {
     "base_uri": "https://localhost:8080/",
     "height": 469
    },
    "id": "oxEtTIO3ZfCS",
    "outputId": "70f40447-0b7e-451b-bc7b-a15389cf55c6",
    "scrolled": true
   },
   "outputs": [
    {
     "name": "stdout",
     "output_type": "stream",
     "text": [
      "X_test: (1920, 8) \n",
      "y_test: (1920,) \n",
      "X_train: (6720, 8) \n",
      "y_train: (6720,)\n"
     ]
    },
    {
     "data": {
      "text/html": [
       "<div>\n",
       "<style scoped>\n",
       "    .dataframe tbody tr th:only-of-type {\n",
       "        vertical-align: middle;\n",
       "    }\n",
       "\n",
       "    .dataframe tbody tr th {\n",
       "        vertical-align: top;\n",
       "    }\n",
       "\n",
       "    .dataframe thead th {\n",
       "        text-align: right;\n",
       "    }\n",
       "</style>\n",
       "<table border=\"1\" class=\"dataframe\">\n",
       "  <thead>\n",
       "    <tr style=\"text-align: right;\">\n",
       "      <th></th>\n",
       "      <th>Y</th>\n",
       "      <th>MOE</th>\n",
       "      <th>EAR</th>\n",
       "      <th>MAR</th>\n",
       "      <th>Circularity</th>\n",
       "      <th>EAR_N</th>\n",
       "      <th>MAR_N</th>\n",
       "      <th>Circularity_N</th>\n",
       "      <th>MOE_N</th>\n",
       "    </tr>\n",
       "  </thead>\n",
       "  <tbody>\n",
       "    <tr>\n",
       "      <th>0</th>\n",
       "      <td>0.0</td>\n",
       "      <td>2.534145</td>\n",
       "      <td>0.312688</td>\n",
       "      <td>0.792397</td>\n",
       "      <td>0.432896</td>\n",
       "      <td>-0.999551</td>\n",
       "      <td>0.802437</td>\n",
       "      <td>-0.948848</td>\n",
       "      <td>0.877172</td>\n",
       "    </tr>\n",
       "    <tr>\n",
       "      <th>1</th>\n",
       "      <td>0.0</td>\n",
       "      <td>2.379947</td>\n",
       "      <td>0.321940</td>\n",
       "      <td>0.766199</td>\n",
       "      <td>0.486923</td>\n",
       "      <td>-0.000897</td>\n",
       "      <td>0.317858</td>\n",
       "      <td>1.044306</td>\n",
       "      <td>0.211742</td>\n",
       "    </tr>\n",
       "    <tr>\n",
       "      <th>2</th>\n",
       "      <td>0.0</td>\n",
       "      <td>2.078550</td>\n",
       "      <td>0.331216</td>\n",
       "      <td>0.688449</td>\n",
       "      <td>0.456029</td>\n",
       "      <td>1.000448</td>\n",
       "      <td>-1.120295</td>\n",
       "      <td>-0.095458</td>\n",
       "      <td>-1.088914</td>\n",
       "    </tr>\n",
       "    <tr>\n",
       "      <th>3</th>\n",
       "      <td>0.0</td>\n",
       "      <td>2.509767</td>\n",
       "      <td>0.309246</td>\n",
       "      <td>0.776136</td>\n",
       "      <td>0.452655</td>\n",
       "      <td>-1.371052</td>\n",
       "      <td>0.501666</td>\n",
       "      <td>-0.219920</td>\n",
       "      <td>0.771970</td>\n",
       "    </tr>\n",
       "    <tr>\n",
       "      <th>4</th>\n",
       "      <td>0.0</td>\n",
       "      <td>3.586821</td>\n",
       "      <td>0.204691</td>\n",
       "      <td>0.734189</td>\n",
       "      <td>0.361123</td>\n",
       "      <td>-12.657205</td>\n",
       "      <td>-0.274242</td>\n",
       "      <td>-3.596686</td>\n",
       "      <td>5.419921</td>\n",
       "    </tr>\n",
       "    <tr>\n",
       "      <th>...</th>\n",
       "      <td>...</td>\n",
       "      <td>...</td>\n",
       "      <td>...</td>\n",
       "      <td>...</td>\n",
       "      <td>...</td>\n",
       "      <td>...</td>\n",
       "      <td>...</td>\n",
       "      <td>...</td>\n",
       "      <td>...</td>\n",
       "    </tr>\n",
       "    <tr>\n",
       "      <th>9595</th>\n",
       "      <td>1.0</td>\n",
       "      <td>3.516036</td>\n",
       "      <td>0.308254</td>\n",
       "      <td>1.083833</td>\n",
       "      <td>0.440628</td>\n",
       "      <td>-3.087456</td>\n",
       "      <td>3.700493</td>\n",
       "      <td>-1.776452</td>\n",
       "      <td>4.040717</td>\n",
       "    </tr>\n",
       "    <tr>\n",
       "      <th>9596</th>\n",
       "      <td>1.0</td>\n",
       "      <td>3.585545</td>\n",
       "      <td>0.301381</td>\n",
       "      <td>1.080614</td>\n",
       "      <td>0.447949</td>\n",
       "      <td>-3.694883</td>\n",
       "      <td>3.646635</td>\n",
       "      <td>-1.472575</td>\n",
       "      <td>4.322363</td>\n",
       "    </tr>\n",
       "    <tr>\n",
       "      <th>9597</th>\n",
       "      <td>1.0</td>\n",
       "      <td>3.750118</td>\n",
       "      <td>0.286855</td>\n",
       "      <td>1.075740</td>\n",
       "      <td>0.450278</td>\n",
       "      <td>-4.978551</td>\n",
       "      <td>3.565087</td>\n",
       "      <td>-1.375905</td>\n",
       "      <td>4.989206</td>\n",
       "    </tr>\n",
       "    <tr>\n",
       "      <th>9598</th>\n",
       "      <td>1.0</td>\n",
       "      <td>4.123695</td>\n",
       "      <td>0.260188</td>\n",
       "      <td>1.072936</td>\n",
       "      <td>0.403545</td>\n",
       "      <td>-7.335156</td>\n",
       "      <td>3.518178</td>\n",
       "      <td>-3.315660</td>\n",
       "      <td>6.502924</td>\n",
       "    </tr>\n",
       "    <tr>\n",
       "      <th>9599</th>\n",
       "      <td>1.0</td>\n",
       "      <td>3.734268</td>\n",
       "      <td>0.284039</td>\n",
       "      <td>1.060679</td>\n",
       "      <td>0.437864</td>\n",
       "      <td>-5.227374</td>\n",
       "      <td>3.313096</td>\n",
       "      <td>-1.891200</td>\n",
       "      <td>4.924982</td>\n",
       "    </tr>\n",
       "  </tbody>\n",
       "</table>\n",
       "<p>6720 rows × 9 columns</p>\n",
       "</div>"
      ],
      "text/plain": [
       "        Y       MOE       EAR       MAR  Circularity      EAR_N     MAR_N  \\\n",
       "0     0.0  2.534145  0.312688  0.792397     0.432896  -0.999551  0.802437   \n",
       "1     0.0  2.379947  0.321940  0.766199     0.486923  -0.000897  0.317858   \n",
       "2     0.0  2.078550  0.331216  0.688449     0.456029   1.000448 -1.120295   \n",
       "3     0.0  2.509767  0.309246  0.776136     0.452655  -1.371052  0.501666   \n",
       "4     0.0  3.586821  0.204691  0.734189     0.361123 -12.657205 -0.274242   \n",
       "...   ...       ...       ...       ...          ...        ...       ...   \n",
       "9595  1.0  3.516036  0.308254  1.083833     0.440628  -3.087456  3.700493   \n",
       "9596  1.0  3.585545  0.301381  1.080614     0.447949  -3.694883  3.646635   \n",
       "9597  1.0  3.750118  0.286855  1.075740     0.450278  -4.978551  3.565087   \n",
       "9598  1.0  4.123695  0.260188  1.072936     0.403545  -7.335156  3.518178   \n",
       "9599  1.0  3.734268  0.284039  1.060679     0.437864  -5.227374  3.313096   \n",
       "\n",
       "      Circularity_N     MOE_N  \n",
       "0         -0.948848  0.877172  \n",
       "1          1.044306  0.211742  \n",
       "2         -0.095458 -1.088914  \n",
       "3         -0.219920  0.771970  \n",
       "4         -3.596686  5.419921  \n",
       "...             ...       ...  \n",
       "9595      -1.776452  4.040717  \n",
       "9596      -1.472575  4.322363  \n",
       "9597      -1.375905  4.989206  \n",
       "9598      -3.315660  6.502924  \n",
       "9599      -1.891200  4.924982  \n",
       "\n",
       "[6720 rows x 9 columns]"
      ]
     },
     "execution_count": 4,
     "metadata": {},
     "output_type": "execute_result"
    }
   ],
   "source": [
    "df=pd.read_csv(\"totalwithmaininfo.csv\",sep=',')\n",
    "participants = set(df.Participant)\n",
    "df = df.drop([\"Participant\"], axis=1)\n",
    "df = df[df.Y != 5.0]  # form a binary problem, delete the 5.0 ones\n",
    "df.loc[df.Y == 0.0, \"Y\"] = int(0)\n",
    "df.loc[df.Y == 10.0, \"Y\"] = int(1)\n",
    "\n",
    "train_percentage = 14/18 # based on max uniq. participants\n",
    "train_samples = int(len(df) * train_percentage)\n",
    "test_samples = len(df) - train_samples\n",
    "\n",
    "df_train = df[:train_samples]\n",
    "df_test = df[-test_samples:]\n",
    "\n",
    "X_test = df_test.drop([\"Y\"], axis=1)\n",
    "y_test = df_test[\"Y\"]\n",
    "\n",
    "X_train = df_train.drop('Y', axis=1)\n",
    "y_train = df_train['Y']\n",
    "print(f'X_test: {X_test.shape} \\ny_test: {y_test.shape} \\nX_train: {X_train.shape} \\ny_train: {y_train.shape}')\n",
    "df_train"
   ]
  },
  {
   "cell_type": "code",
   "execution_count": 10,
   "metadata": {
    "colab": {
     "base_uri": "https://localhost:8080/"
    },
    "id": "z0v2Ra2VZ7UV",
    "outputId": "19c264d8-e0a7-4330-e621-7181bc084a26"
   },
   "outputs": [
    {
     "name": "stdout",
     "output_type": "stream",
     "text": [
      "[0.7005208333333334, 0.6335245379222434, 0.7379096137152779]\n",
      "[[848 112]\n",
      " [463 497]]\n"
     ]
    }
   ],
   "source": [
    "#KNN\n",
    "\n",
    "acc3_list = []\n",
    "f1_score3_list = []\n",
    "roc_3_list = []\n",
    "from sklearn.neighbors import KNeighborsClassifier\n",
    "for i in range(1,30):\n",
    "    neigh = KNeighborsClassifier(n_neighbors=i)\n",
    "    neigh.fit(X_train, y_train) \n",
    "    pred_KN = neigh.predict(X_test)\n",
    "    pred_KN = average(pred_KN)\n",
    "    y_score_3 = neigh.predict_proba(X_test)[:,1]\n",
    "    acc3_list.append(accuracy_score(y_test, pred_KN))\n",
    "    f1_score3_list.append(metrics.f1_score(y_test, pred_KN))\n",
    "    roc_3_list.append(metrics.roc_auc_score(y_test, y_score_3))\n",
    "    \n",
    "    \n",
    "neigh = KNeighborsClassifier(n_neighbors=acc3_list.index(max(acc3_list))+1)\n",
    "neigh.fit(X_train, y_train) \n",
    "pred_KN = neigh.predict(X_test)\n",
    "pred_KN = average(pred_KN)\n",
    "y_score_3 = neigh.predict_proba(X_test)[:,1]\n",
    "acc3 = accuracy_score(y_test, pred_KN)\n",
    "f1_score_3 = metrics.f1_score(y_test, pred_KN)\n",
    "roc_3 = metrics.roc_auc_score(y_test, y_score_3)\n",
    "print([acc3,f1_score_3,roc_3])\n",
    "print(confusion_matrix(y_test, pred_KN))"
   ]
  },
  {
   "cell_type": "code",
   "execution_count": 11,
   "metadata": {},
   "outputs": [
    {
     "data": {
      "text/plain": [
       "21"
      ]
     },
     "execution_count": 11,
     "metadata": {},
     "output_type": "execute_result"
    }
   ],
   "source": [
    "acc3_list.index(max(acc3_list))+1"
   ]
  },
  {
   "cell_type": "code",
   "execution_count": 7,
   "metadata": {},
   "outputs": [
    {
     "name": "stdout",
     "output_type": "stream",
     "text": [
      "              precision    recall  f1-score   support\n",
      "\n",
      "         0.0       0.65      0.88      0.75       960\n",
      "         1.0       0.82      0.52      0.63       960\n",
      "\n",
      "    accuracy                           0.70      1920\n",
      "   macro avg       0.73      0.70      0.69      1920\n",
      "weighted avg       0.73      0.70      0.69      1920\n",
      "\n"
     ]
    }
   ],
   "source": [
    "from sklearn.metrics import classification_report\n",
    "print(classification_report(y_test, pred_KN))"
   ]
  },
  {
   "cell_type": "code",
   "execution_count": 8,
   "metadata": {},
   "outputs": [
    {
     "data": {
      "text/plain": [
       "0.7005208333333333"
      ]
     },
     "execution_count": 8,
     "metadata": {},
     "output_type": "execute_result"
    }
   ],
   "source": [
    "roc_auc_score(y_test, pred_KN)"
   ]
  },
  {
   "cell_type": "code",
   "execution_count": 22,
   "metadata": {},
   "outputs": [],
   "source": [
    "def plot_confusion_matrix(test_Y,predict_y):\n",
    "    C = confusion_matrix(test_Y,predict_y)\n",
    "    A = (((C.T)/(C.sum(axis=1))).T)\n",
    "    B = (C/C.sum(axis=0))\n",
    "    plt.figure(figsize=(20,4))\n",
    "    labels = [1,2]\n",
    "    cmap=sns.light_palette(\"seagreen\")\n",
    "    plt.subplot(1,3,1)\n",
    "    sns.heatmap(C, annot=True, cmap=cmap, fmt=\".3f\", xticklabels=labels,yticklabels=labels)\n",
    "    plt.xlabel(\"Predicted Class\")\n",
    "    plt.ylabel(\"Original Class\")\n",
    "    plt.title(\"Confusion matrix\")\n",
    "    plt.show()"
   ]
  },
  {
   "cell_type": "code",
   "execution_count": 30,
   "metadata": {},
   "outputs": [
    {
     "name": "stdout",
     "output_type": "stream",
     "text": [
      "True Positives: 497\n",
      "False Positives: 112\n",
      "True Negatives: 848\n",
      "False Negatives: 463\n"
     ]
    }
   ],
   "source": [
    "tn, fp, fn, tp = confusion_matrix(y_test, pred_KN).ravel()\n",
    "print(f'True Positives: {tp}')\n",
    "print(f'False Positives: {fp}')\n",
    "print(f'True Negatives: {tn}')\n",
    "print(f'False Negatives: {fn}')"
   ]
  },
  {
   "cell_type": "code",
   "execution_count": 35,
   "metadata": {},
   "outputs": [
    {
     "data": {
      "text/html": [
       "<div>\n",
       "<style scoped>\n",
       "    .dataframe tbody tr th:only-of-type {\n",
       "        vertical-align: middle;\n",
       "    }\n",
       "\n",
       "    .dataframe tbody tr th {\n",
       "        vertical-align: top;\n",
       "    }\n",
       "\n",
       "    .dataframe thead th {\n",
       "        text-align: right;\n",
       "    }\n",
       "</style>\n",
       "<table border=\"1\" class=\"dataframe\">\n",
       "  <thead>\n",
       "    <tr style=\"text-align: right;\">\n",
       "      <th></th>\n",
       "      <th>Predicted Drowsy</th>\n",
       "      <th>Predicted Not Drowsy</th>\n",
       "    </tr>\n",
       "  </thead>\n",
       "  <tbody>\n",
       "    <tr>\n",
       "      <th>Actual Drowsy</th>\n",
       "      <td>848</td>\n",
       "      <td>112</td>\n",
       "    </tr>\n",
       "    <tr>\n",
       "      <th>Actual Not Drowsy</th>\n",
       "      <td>463</td>\n",
       "      <td>497</td>\n",
       "    </tr>\n",
       "  </tbody>\n",
       "</table>\n",
       "</div>"
      ],
      "text/plain": [
       "                   Predicted Drowsy  Predicted Not Drowsy\n",
       "Actual Drowsy                   848                   112\n",
       "Actual Not Drowsy               463                   497"
      ]
     },
     "execution_count": 35,
     "metadata": {},
     "output_type": "execute_result"
    }
   ],
   "source": [
    "pd.DataFrame(confusion_matrix(y_test, pred_KN), columns=['Predicted Drowsy', \"Predicted Not Drowsy\"], index=['Actual Drowsy', 'Actual Not Drowsy'])"
   ]
  },
  {
   "cell_type": "code",
   "execution_count": 31,
   "metadata": {},
   "outputs": [
    {
     "data": {
      "image/png": "[encoded data removed]",
      "text/plain": [
       "<Figure size 1440x288 with 2 Axes>"
      ]
     },
     "metadata": {
      "needs_background": "light"
     },
     "output_type": "display_data"
    }
   ],
   "source": [
    "import seaborn as sns\n",
    "plot_confusion_matrix(y_test, pred_KN)"
   ]
  },
  {
   "cell_type": "code",
   "execution_count": 36,
   "metadata": {},
   "outputs": [
    {
     "data": {
      "text/plain": [
       "<matplotlib.legend.Legend at 0x2b6a3485cc8>"
      ]
     },
     "execution_count": 36,
     "metadata": {},
     "output_type": "execute_result"
    },
    {
     "data": {
      "image/png": "[encoded data removed]",
      "text/plain": [
       "<Figure size 576x576 with 1 Axes>"
      ]
     },
     "metadata": {
      "needs_background": "light"
     },
     "output_type": "display_data"
    }
   ],
   "source": [
    "import matplotlib.pyplot as plt\n",
    "from sklearn.metrics import auc\n",
    "plt.figure(figsize=(8,8))\n",
    "plt.plot([0, 1], [0, 1],'r--')\n",
    "fpr, tpr, thresholds = roc_curve(y_test, y_score_3)\n",
    "roc_auc = auc(fpr, tpr)\n",
    "plt.plot(fpr, tpr, label= 'ROC curve (area = %0.2f)' % roc_auc)\n",
    "plt.plot(np.linspace(0, 1, 100),\n",
    "         np.linspace(0, 1, 100),\n",
    "         label='baseline',\n",
    "         linestyle='--')\n",
    "plt.title('ROC Curve for KNN')\n",
    "plt.xlabel('False Positive Rate')\n",
    "plt.ylabel('True Positive Rate')\n",
    "plt.legend()"
   ]
  },
  {
   "cell_type": "code",
   "execution_count": 18,
   "metadata": {},
   "outputs": [
    {
     "data": {
      "text/plain": [
       "0.7379096137152779"
      ]
     },
     "execution_count": 18,
     "metadata": {},
     "output_type": "execute_result"
    }
   ],
   "source": [
    "metrics.auc(fpr, tpr)"
   ]
  },
  {
   "cell_type": "code",
   "execution_count": 17,
   "metadata": {},
   "outputs": [
    {
     "data": {
      "text/plain": [
       "Text(0, 0.5, 'Probabilities of the positive class')"
      ]
     },
     "execution_count": 17,
     "metadata": {},
     "output_type": "execute_result"
    },
    {
     "data": {
      "image/png": "[encoded data removed]",
      "text/plain": [
       "<Figure size 576x576 with 1 Axes>"
      ]
     },
     "metadata": {
      "needs_background": "light"
     },
     "output_type": "display_data"
    }
   ],
   "source": [
    "from sklearn.calibration import calibration_curve\n",
    "plt.figure(figsize=(8,8))\n",
    "plt.plot([0, 1], [0, 1], \"k:\", label=\"Perfectly calibrated\")\n",
    "fraction_of_positives, mean_predicted_value=calibration_curve(y_test,y_score_3,normalize=True,n_bins=10)\n",
    "plt.plot(mean_predicted_value, fraction_of_positives,\"s-\",\n",
    "                 label=\"%s\" % 'KNN')\n",
    "plt.title('Calibration Curve for KNN')\n",
    "plt.xlabel('True targets')\n",
    "plt.ylabel('Probabilities of the positive class')"
   ]
  },
  {
   "cell_type": "code",
   "execution_count": null,
   "metadata": {},
   "outputs": [],
   "source": [
    "def model(landmarks):\n",
    "\n",
    "    features = pd.DataFrame(columns=[\"EAR\",\"MAR\",\"Circularity\",\"MOE\"])\n",
    "\n",
    "    eye = landmarks[36:68]\n",
    "    ear = eye_aspect_ratio(eye)\n",
    "    mar = mouth_aspect_ratio(eye)\n",
    "    cir = circularity(eye)\n",
    "    mouth_eye = mouth_over_eye(eye)\n",
    "\n",
    "    df = features.append({\"EAR\":ear,\"MAR\": mar,\"Circularity\": cir,\"MOE\": mouth_eye},ignore_index=True)\n",
    "\n",
    "    df[\"EAR_N\"] = (df[\"EAR\"]-mean[\"EAR\"])/ std[\"EAR\"]\n",
    "    df[\"MAR_N\"] = (df[\"MAR\"]-mean[\"MAR\"])/ std[\"MAR\"]\n",
    "    df[\"Circularity_N\"] = (df[\"Circularity\"]-mean[\"Circularity\"])/ std[\"Circularity\"]\n",
    "    df[\"MOE_N\"] = (df[\"MOE\"]-mean[\"MOE\"])/ std[\"MOE\"]\n",
    "    \n",
    "    Result = neigh.predict(df)\n",
    "    if Result == 1:\n",
    "        Result_String = \"Drowsy\"\n",
    "    else:\n",
    "        Result_String = \"Alert\"\n",
    "    \n",
    "\n",
    "    return Result_String, df.values"
   ]
  },
  {
   "cell_type": "code",
   "execution_count": null,
   "metadata": {
    "id": "UrjvHwhPaZ81"
   },
   "outputs": [],
   "source": [
    "def calibration():\n",
    "    data = []\n",
    "    cap = cv2.VideoCapture(0,cv2.CAP_DSHOW)\n",
    "\n",
    "    while True:\n",
    "        # Getting out image by webcam \n",
    "        _, image = cap.read()\n",
    "        # Converting the image to gray scale\n",
    "        gray = cv2.cvtColor(image, cv2.COLOR_BGR2GRAY)\n",
    "\n",
    "        # Get faces into webcam's image\n",
    "        rects = detector(image, 0)\n",
    "\n",
    "        # For each detected face, find the landmark.\n",
    "        for (i, rect) in enumerate(rects):\n",
    "            # Make the prediction and transfom it to numpy array\n",
    "            shape = predictor(gray, rect)\n",
    "            shape = face_utils.shape_to_np(shape)\n",
    "            data.append(shape)\n",
    "            cv2.putText(image,\"Calibrating...\", bottomLeftCornerOfText, font, fontScale, fontColor,lineType)\n",
    "\n",
    "            # Draw on our image, all the finded cordinate points (x,y) \n",
    "            for (x, y) in shape:\n",
    "                cv2.circle(image, (x, y), 2, (0, 255, 0), -1)\n",
    "\n",
    "        # Show the image\n",
    "        cv2.imshow(\"Output\", image)\n",
    "\n",
    "        k = cv2.waitKey(5) & 0xFF\n",
    "        if k == 27:\n",
    "            break\n",
    "\n",
    "    cv2.destroyAllWindows()\n",
    "    cap.release()\n",
    "    \n",
    "    \n",
    "    features_test = []\n",
    "    for d in data:\n",
    "        eye = d[36:68]\n",
    "        ear = eye_aspect_ratio(eye)\n",
    "        mar = mouth_aspect_ratio(eye)\n",
    "        cir = circularity(eye)\n",
    "        mouth_eye = mouth_over_eye(eye)\n",
    "        features_test.append([ear, mar, cir, mouth_eye])\n",
    "    \n",
    "    features_test = np.array(features_test)\n",
    "    x = features_test\n",
    "    y = pd.DataFrame(x,columns=[\"EAR\",\"MAR\",\"Circularity\",\"MOE\"])\n",
    "    df_means = y.mean(axis=0)\n",
    "    df_std = y.std(axis=0)\n",
    "    \n",
    "    return df_means,df_std\n",
    "\n",
    "font                   = cv2.FONT_HERSHEY_SIMPLEX\n",
    "bottomLeftCornerOfText = (10,400)\n",
    "fontScale              = 1\n",
    "fontColor              = (255,255,255)\n",
    "lineType               = 2\n"
   ]
  },
  {
   "cell_type": "code",
   "execution_count": null,
   "metadata": {
    "id": "jTdFwiOXaenP"
   },
   "outputs": [],
   "source": [
    "def live():\n",
    "    cap = cv2.VideoCapture(0,cv2.CAP_DSHOW)\n",
    "    data = []\n",
    "    result = []\n",
    "    while True:\n",
    "        # Getting out image by webcam \n",
    "        _, image = cap.read()\n",
    "        # Converting the image to gray scale\n",
    "        gray = cv2.cvtColor(image, cv2.COLOR_BGR2GRAY)\n",
    "\n",
    "        # Get faces into webcam's image\n",
    "        rects = detector(image, 0)\n",
    "\n",
    "        # For each detected face, find the landmark.\n",
    "        for (i, rect) in enumerate(rects):\n",
    "            # Make the prediction and transfom it to numpy array\n",
    "            shape = predictor(gray, rect)\n",
    "            shape = face_utils.shape_to_np(shape)\n",
    "            Result_String, features = model(shape)\n",
    "            cv2.putText(image,Result_String, bottomLeftCornerOfText, font, fontScale, fontColor,lineType)\n",
    "            data.append (features)\n",
    "            result.append(Result_String)\n",
    "\n",
    "            # Draw on our image, all the finded cordinate points (x,y) \n",
    "            for (x, y) in shape:\n",
    "                cv2.circle(image, (x, y), 2, (0, 255, 0), -1)\n",
    "\n",
    "        # Show the image\n",
    "        cv2.imshow(\"Output\", image)\n",
    "\n",
    "        k = cv2.waitKey(300) & 0xFF\n",
    "        if k == 27:\n",
    "            break\n",
    "\n",
    "    cv2.destroyAllWindows()\n",
    "    cap.release()\n",
    "    \n",
    "    return data,result\n",
    "\n",
    "font                   = cv2.FONT_HERSHEY_SIMPLEX\n",
    "bottomLeftCornerOfText = (10,400)\n",
    "fontScale              = 1\n",
    "fontColor              = (255,255,255)\n",
    "lineType               = 2"
   ]
  },
  {
   "cell_type": "code",
   "execution_count": null,
   "metadata": {
    "colab": {
     "base_uri": "https://localhost:8080/",
     "height": 296
    },
    "id": "IXZbtx33ahnP",
    "outputId": "ea08ee2a-6c72-4f95-df44-40fca08f313d"
   },
   "outputs": [],
   "source": [
    "#Run Calibration\n",
    "#mean, std = calibration()\n"
   ]
  },
  {
   "cell_type": "code",
   "execution_count": null,
   "metadata": {
    "colab": {
     "base_uri": "https://localhost:8080/",
     "height": 296
    },
    "id": "zDyzt0x5akFk",
    "outputId": "2aebf941-bfbe-439f-c09f-2ade3e1a14a6"
   },
   "outputs": [],
   "source": [
    "#Run Demonstration\n",
    "#features, result = live()"
   ]
  }
 ],
 "metadata": {
  "colab": {
   "name": "Livedemo.ipynb",
   "provenance": []
  },
  "kernelspec": {
   "display_name": "Python 3",
   "language": "python",
   "name": "python3"
  },
  "language_info": {
   "codemirror_mode": {
    "name": "ipython",
    "version": 3
   },
   "file_extension": ".py",
   "mimetype": "text/x-python",
   "name": "python",
   "nbconvert_exporter": "python",
   "pygments_lexer": "ipython3",
   "version": "3.7.6"
  }
 },
 "nbformat": 4,
 "nbformat_minor": 1
}
